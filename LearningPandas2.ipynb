{
  "nbformat": 4,
  "nbformat_minor": 0,
  "metadata": {
    "colab": {
      "provenance": [],
      "authorship_tag": "ABX9TyPzpm42VeuOXLB7oFtNT4HX",
      "include_colab_link": true
    },
    "kernelspec": {
      "name": "python3",
      "display_name": "Python 3"
    },
    "language_info": {
      "name": "python"
    }
  },
  "cells": [
    {
      "cell_type": "markdown",
      "metadata": {
        "id": "view-in-github",
        "colab_type": "text"
      },
      "source": [
        "<a href=\"https://colab.research.google.com/github/JoyDev941/Data_Analytics_Portfolio/blob/main/LearningPandas2.ipynb\" target=\"_parent\"><img src=\"https://colab.research.google.com/assets/colab-badge.svg\" alt=\"Open In Colab\"/></a>"
      ]
    },
    {
      "cell_type": "code",
      "execution_count": 6,
      "metadata": {
        "id": "nEDdqWNEA_EZ"
      },
      "outputs": [],
      "source": [
        "import pandas as pd"
      ]
    },
    {
      "cell_type": "code",
      "source": [
        "temp_df = pd.read_csv(\"./archive/retail_sales_dataset.csv\").head(11) #stores the first 11 rows of data"
      ],
      "metadata": {
        "id": "vYTgfGfBC9Ib"
      },
      "execution_count": 13,
      "outputs": []
    },
    {
      "cell_type": "code",
      "source": [
        "temp_df[\"Customer ID\"].nunique() # there are 11 unique customer ids\n",
        "#because we stored 11 customers, this means that each one is a unique customer different people"
      ],
      "metadata": {
        "colab": {
          "base_uri": "https://localhost:8080/"
        },
        "id": "YCCtXxWdDoWy",
        "outputId": "093f1d04-84e8-42bb-d44f-92771b8ae258"
      },
      "execution_count": 19,
      "outputs": [
        {
          "output_type": "execute_result",
          "data": {
            "text/plain": [
              "11"
            ]
          },
          "metadata": {},
          "execution_count": 19
        }
      ]
    },
    {
      "cell_type": "markdown",
      "source": [
        "CSV files are a popular data format; however, there are cases where it is not the best choice, so it is best not to rely on it too much."
      ],
      "metadata": {
        "id": "mR_8VtDlD69W"
      }
    },
    {
      "cell_type": "markdown",
      "source": [
        "CSV formats are usually large, so you can use Feather or Parquet to obtain the same data in a smaller size. More about how to convert to the alternatives later."
      ],
      "metadata": {
        "id": "zuxRAPTCE-Pv"
      }
    },
    {
      "cell_type": "markdown",
      "source": [
        "you may ask what is the difference between these files, even if they are larger. Well it comes down to loading time. the larger the data file, the longer it takes the data to load up.\n",
        "\n",
        "For test purpouses we took a dataset and took only the first 11 rows. But in the real world, data may be on the GB, so it is wise to learn to drop the size of the file, so that we wont be sitting down for 10-15 minutes for the data to load up. Of course, this is only one of the problems that arise with large file formats."
      ],
      "metadata": {
        "id": "7Vb9Zl-qF0i7"
      }
    },
    {
      "cell_type": "code",
      "source": [
        "ls -lh archive/retail_sales_dataset.csv #checks the size of the file 51K"
      ],
      "metadata": {
        "colab": {
          "base_uri": "https://localhost:8080/"
        },
        "id": "kaI3vm3jGhpI",
        "outputId": "9f87791e-380a-4d9f-fe3d-f0d0c853d536"
      },
      "execution_count": 25,
      "outputs": [
        {
          "output_type": "stream",
          "name": "stdout",
          "text": [
            "-rw-r--r-- 1 root root 51K Jul 25 10:02 archive/retail_sales_dataset.csv\n"
          ]
        }
      ]
    }
  ]
}